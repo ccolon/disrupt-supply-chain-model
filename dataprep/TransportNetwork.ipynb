{
 "cells": [
  {
   "cell_type": "markdown",
   "metadata": {},
   "source": [
    "This notebook aims to produce transport layers that are fit for the model.\n",
    "\n",
    "Transport modes are among: roads, railways, waterways, maritime, and multimodal. Roads are required. Note that the multimodal is required if there are more than 2 transport modes.\n",
    "\n",
    "### Input\n",
    "- For each mode, a `raw_<mode>_edges.geojson` and and a `raw_<mode>_nodes.geoson`, except for multimodal for which there is only a edge layer\n",
    "- Required attributes :\n",
    "    - `raw_roads_edges.geojson`: \"class\" (\"primary\", \"seconday\", etc.), \"surface\" (\"paved, \"unpaved\")\n",
    "    - `raw_multimodal_edges.geojson`: \"multimodes\" (\"roads-railways\", \"roads-maritime\", etc.)\n",
    "    - For the countri\n",
    "- Optional attributes :\n",
    "    - `raw_<mode>_edges.geojson`: \"capacity\" (float, max annual tonnage on the edge)\n",
    "- Other requirements :\n",
    "    - the location of countries should be placed in the nodes layers\n",
    "    - concretely, there should be a \"name\" attribute in `raw_<mode>_nodes.geoson`, with the trigram of the country in the selected node\n",
    "       \n",
    "### Output\n",
    "- For each mode, a `<mode>_edges.geojson` and a `<mode>_nodes.geoson`\n",
    "- New attributes :\n",
    "    - `<mode>_edges.geojson` and `<mode>_nodes.geoson`: 'id' (integer)\n",
    "    - `<mode>_edges.geojson`: 'end1' and 'end2' (integer, id of nodes located at the end of the edges), 'km' (float, length of edge)\n",
    "    - Note that the end1 and end2 of edges are found with looking at the node of `<mode>_nodes.geoson` which is the closed to the ends of the dege\n",
    "- Modification on the geometry\n",
    "    - (optional) `<mode>_nodes.geoson`: if the end1 or end2 nodes are not located at the ends of the edges, they are moved to the ends of the edges\n",
    "    - (optional) `<mode>_nodes.geoson`: if there are several points very close to each others (distance epsilon), merge them\n",
    "\n",
    "### Folder path\n",
    "- input files : in the input_folder, there should be one subfolder per mode, named `<Mode>` with the files\n",
    "- output : defined by output_folder\n",
    "\n",
    "### Points to improve\n",
    "- we could think of not using a `raw_<mode>_nodes.geoson` and generate the nodes directly from the ends of edges\n",
    "- but we need to say where the countries are"
   ]
  },
  {
   "cell_type": "code",
   "execution_count": 7,
   "metadata": {},
   "outputs": [],
   "source": [
    "import os\n",
    "import time\n",
    "import math\n",
    "import numpy as np\n",
    "import pandas as pd\n",
    "import geopandas as gpd\n",
    "from shapely.geometry import Point, LineString\n",
    "import shapely.wkt\n",
    "\n",
    "input_folder = os.path.join('..', '..', '..', 'Cambodia', 'Data', 'Structured')"
   ]
  },
  {
   "cell_type": "code",
   "execution_count": null,
   "metadata": {},
   "outputs": [],
   "source": [
    "projected_crs = 3857"
   ]
  },
  {
   "cell_type": "code",
   "execution_count": 2,
   "metadata": {},
   "outputs": [],
   "source": [
    "def loadShp(filename):\n",
    "    gpdf = gpd.read_file(filename)\n",
    "    gpdf = gpdf[~gpdf['geometry'].isnull()]\n",
    "    gpdf = gpdf.to_crs(epsg=4326)\n",
    "    return gpdf"
   ]
  },
  {
   "cell_type": "code",
   "execution_count": 3,
   "metadata": {},
   "outputs": [],
   "source": [
    "def getEndPointsFromLine(linestring_obj):\n",
    "    end1Coord = linestring_obj.coords[0]\n",
    "    end2Coord = linestring_obj.coords[-1]\n",
    "    return Point(*end1Coord), Point(*end2Coord)\n",
    "\n",
    "def getIndexClosestPoint(point, df_with_points):\n",
    "    distList = [point.distance(item) for item in df_with_points['geometry'].tolist()]\n",
    "    return int(df_with_points.index[distList.index(min(distList))])\n",
    "\n",
    "def updateLineString(linestring_obj, newEnd1, newEnd2):\n",
    "    return LineString([newEnd1.coords[0]] + linestring_obj.coords[1:-1]+[newEnd2.coords[0]])\n",
    "\n",
    "def assignEndpointsAndUpdate(df_links, id_link, df_nodes, update=False):\n",
    "    p1, p2 = getEndPointsFromLine(df_links.loc[id_link, 'geometry'])\n",
    "    id_closest_point1 = getIndexClosestPoint(p1, df_nodes)\n",
    "    id_closest_point2 = getIndexClosestPoint(p2, df_nodes)\n",
    "    df_links.loc[id_link, 'end1'] = id_closest_point1\n",
    "    df_links.loc[id_link, 'end2'] = id_closest_point2\n",
    "    if update:\n",
    "        df_links.loc[id_link, 'geometry'] = updateLineString(df_links.loc[id_link, 'geometry'], df_nodes.loc[id_closest_point1, 'geometry'], df_nodes.loc[id_closest_point2, 'geometry'])\n",
    "    return df_links\n",
    "\n",
    "def assignEndpointsAndUpdateFullDf(df_links, df_nodes, update=False):\n",
    "    print('Assigning end nodes to linestring')\n",
    "    if update:\n",
    "        print('Stag liens to endnodes')\n",
    "    res = df_links.copy()\n",
    "    for i in res.index:\n",
    "        res = assignEndpointsAndUpdate(res, i, df_nodes, update=update)\n",
    "    res['end1'] = res['end1'].astype(int)\n",
    "    res['end2'] = res['end2'].astype(int)\n",
    "    return res\n",
    "\n",
    "def getAllEndpoints(df_links):\n",
    "    all_endpoints = [getEndPointsFromLine(item) for item in df_links['geometry']]\n",
    "    return [item for sublist in all_endpoints for item in sublist]\n",
    "\n",
    "def mergePoints(df_nodes, df_links, epsilon):\n",
    "    print(\"Nb of original nodes:\", df_nodes.shape[0])\n",
    "    \n",
    "    all_endpoints = getAllEndpoints(df_links)\n",
    "    print(\"Nb of endpoints:\", len(all_endpoints))\n",
    "    \n",
    "    all_points_gpd = gpd.GeoDataFrame({\"geometry\": df_nodes['geometry'].tolist()+getAllEndpoints(df_links)}, crs={'init': 'epsg:4326'})\n",
    "    buffered_polygons = gpd.GeoDataFrame({\"geometry\": all_points_gpd.buffer(distance=epsilon)}, crs={'init': 'epsg:4326'})\n",
    "    multipolygon = buffered_polygons.unary_union\n",
    "    centroids_each_polygon = [polygon.centroid for polygon in multipolygon]\n",
    "    print(\"Nb of grouped points:\", len(centroids_each_polygon))\n",
    "    \n",
    "    return gpd.GeoDataFrame({\"id\":range(len(multipolygon)), \"geometry\":centroids_each_polygon}, crs={'init': 'epsg:4326'})\n",
    "\n",
    "def assignEndpointsOneEdge(row, df_nodes):\n",
    "    p1, p2 = getEndPointsFromLine(row['geometry'])\n",
    "    id_closest_point1 = getIndexClosestPoint(p1, df_nodes)\n",
    "    id_closest_point2 = getIndexClosestPoint(p2, df_nodes)\n",
    "    row['end1'] = id_closest_point1\n",
    "    row['end2'] = id_closest_point2\n",
    "    return row\n",
    "\n",
    "def assignEndpoints(df_links, df_nodes):\n",
    "    return df_links.apply(lambda row: assignEndpointsOneEdge(row, df_nodes), axis=1)"
   ]
  },
  {
   "cell_type": "code",
   "execution_count": 4,
   "metadata": {},
   "outputs": [],
   "source": [
    "def loadAndFormatGeojson(transport_mode, nodeedge, subfolder):\n",
    "    if nodeedge == \"nodes\":\n",
    "        nodes = gpd.read_file(os.path.join(subfolder, \"raw_\"+transport_mode+\"_nodes.geojson\"))\n",
    "        if 'index' in nodes.columns:\n",
    "            nodes = nodes.drop('index', axis=1)\n",
    "        nodes['id']=range(nodes.shape[0])\n",
    "        nodes.index = nodes['id']\n",
    "        nodes.index.name = \"index\"\n",
    "        print(\"There are\", nodes.shape[0], \"nodes\")\n",
    "        print(nodes.crs)\n",
    "        return nodes\n",
    "    \n",
    "    if nodeedge == \"edges\":\n",
    "        edges = gpd.read_file(os.path.join(subfolder, \"raw_\"+transport_mode+\"_edges.geojson\"))\n",
    "        edges = edges[~edges['geometry'].isnull()]\n",
    "        if 'index' in edges.columns:\n",
    "            edges = edges.drop('index', axis=1)\n",
    "        edges['id']=range(edges.shape[0])\n",
    "        edges['end1'] = None\n",
    "        edges['end2'] = None\n",
    "        if \"capacity\" not in edges.columns:\n",
    "            edges['capacity'] = None\n",
    "        edges.index = edges['id']\n",
    "        edges.index.name = \"index\"\n",
    "        print(\"There are\", edges.shape[0], \"edges\")\n",
    "        print(edges.crs)\n",
    "        return edges\n",
    "    \n",
    "    \n",
    "def addKm(edges, crs):\n",
    "    # Project the layer. Watch out, the CRS should be adapted to the country\n",
    "    edges['km'] = edges.to_crs({'init': 'epsg:'+str(crs)}).length/1000\n",
    "    return edges"
   ]
  },
  {
   "cell_type": "markdown",
   "metadata": {},
   "source": [
    "# Maritime"
   ]
  },
  {
   "cell_type": "code",
   "execution_count": 18,
   "metadata": {},
   "outputs": [
    {
     "name": "stdout",
     "output_type": "stream",
     "text": [
      "There are 22 nodes\n",
      "{'init': 'epsg:4326'}\n",
      "There are 19 edges\n",
      "{'init': 'epsg:4326'}\n"
     ]
    },
    {
     "name": "stderr",
     "output_type": "stream",
     "text": [
      "C:\\Users\\celian\\anaconda3\\envs\\DisruptSupplyChain\\lib\\site-packages\\pyproj\\crs\\crs.py:55: FutureWarning: '+init=<authority>:<code>' syntax is deprecated. '<authority>:<code>' is the preferred initialization method. When making the change, be mindful of axis order changes: https://pyproj4.github.io/pyproj/stable/gotchas.html#axis-order-changes-in-proj-6\n",
      "  return _prepare_from_string(\" \".join(pjargs))\n",
      "C:\\Users\\celian\\anaconda3\\envs\\DisruptSupplyChain\\lib\\site-packages\\pyproj\\crs\\crs.py:55: FutureWarning: '+init=<authority>:<code>' syntax is deprecated. '<authority>:<code>' is the preferred initialization method. When making the change, be mindful of axis order changes: https://pyproj4.github.io/pyproj/stable/gotchas.html#axis-order-changes-in-proj-6\n",
      "  return _prepare_from_string(\" \".join(pjargs))\n"
     ]
    },
    {
     "name": "stdout",
     "output_type": "stream",
     "text": [
      "Assigning end nodes to linestring\n",
      "                                   name special  \\\n",
      "index                                             \n",
      "0      Sihanoukville international port    port   \n",
      "1                                  None     ASI   \n",
      "2                          Cai Mep Port    port   \n",
      "3                          Laem Chabang    port   \n",
      "4                                  None     OCE   \n",
      "\n",
      "                                           geometry  id  \n",
      "index                                                    \n",
      "0        POINT (103.516309673649 10.65094281264956)   0  \n",
      "1          POINT (113.25972836394 19.9766339017673)   1  \n",
      "2       POINT (107.0258765937671 10.53711717311858)   2  \n",
      "3       POINT (100.8726788022483 13.07567616414528)   3  \n",
      "4      POINT (138.5749843338141 -11.10567941915124)   4  \n",
      "       FID special                                           geometry  id  \\\n",
      "index                                                                       \n",
      "0      0.0    None  LINESTRING (103.5154920847961 10.6511312276697...   0   \n",
      "1      1.0    None  LINESTRING (103.5154920847961 10.6511312276697...   1   \n",
      "2      2.0    None  LINESTRING (103.5154920847961 10.6511312276697...   2   \n",
      "3      NaN    None  LINESTRING (6.007387900575273 43.1696718915138...   3   \n",
      "4      NaN    None  LINESTRING (107.0640389376819 10.1088225905484...   4   \n",
      "\n",
      "       end1  end2 capacity           km  \n",
      "index                                    \n",
      "0        14    15     None   479.538010  \n",
      "1        14     7     None  1149.731189  \n",
      "2        14     8     None  1069.165363  \n",
      "3         6    10     None   815.655584  \n",
      "4        20    21     None    32.859395  \n"
     ]
    },
    {
     "name": "stderr",
     "output_type": "stream",
     "text": [
      "C:\\Users\\celian\\anaconda3\\envs\\DisruptSupplyChain\\lib\\site-packages\\geopandas\\io\\file.py:62: FionaDeprecationWarning: Use fiona.Env() instead.\n",
      "  with fiona.drivers():\n"
     ]
    }
   ],
   "source": [
    "transport_mode = 'maritime'\n",
    "version = \"current_version\"\n",
    "subfolder = os.path.join(input_folder, transport_mode.capitalize(), version)\n",
    "\n",
    "nodes = loadAndFormatGeojson(transport_mode, \"nodes\", subfolder)\n",
    "edges = loadAndFormatGeojson(transport_mode, \"edges\", subfolder)\n",
    "\n",
    "edges = addKm(edges, projected_crs)\n",
    "edges = assignEndpointsAndUpdateFullDf(edges, nodes)\n",
    "\n",
    "print(nodes.head())\n",
    "print(edges.head())\n",
    "\n",
    "nodes.to_file(os.path.join(output_folder, transport_mode+\"_nodes.geojson\"), driver=\"GeoJSON\")\n",
    "edges.to_file(os.path.join(output_folder, transport_mode+\"_edges.geojson\"), driver=\"GeoJSON\")\n",
    "\n",
    "if (edges['end1'] == edges['end2']).any():\n",
    "    print('ATT')"
   ]
  },
  {
   "cell_type": "markdown",
   "metadata": {},
   "source": [
    "# Waterways"
   ]
  },
  {
   "cell_type": "code",
   "execution_count": 11,
   "metadata": {},
   "outputs": [
    {
     "name": "stdout",
     "output_type": "stream",
     "text": [
      "There are 20 nodes\n",
      "{'init': 'epsg:4326'}\n",
      "There are 19 edges\n",
      "{'init': 'epsg:4326'}\n"
     ]
    },
    {
     "name": "stderr",
     "output_type": "stream",
     "text": [
      "C:\\Users\\celian\\anaconda3\\envs\\DisruptSupplyChain\\lib\\site-packages\\pyproj\\crs\\crs.py:55: FutureWarning: '+init=<authority>:<code>' syntax is deprecated. '<authority>:<code>' is the preferred initialization method. When making the change, be mindful of axis order changes: https://pyproj4.github.io/pyproj/stable/gotchas.html#axis-order-changes-in-proj-6\n",
      "  return _prepare_from_string(\" \".join(pjargs))\n",
      "C:\\Users\\celian\\anaconda3\\envs\\DisruptSupplyChain\\lib\\site-packages\\pyproj\\crs\\crs.py:55: FutureWarning: '+init=<authority>:<code>' syntax is deprecated. '<authority>:<code>' is the preferred initialization method. When making the change, be mindful of axis order changes: https://pyproj4.github.io/pyproj/stable/gotchas.html#axis-order-changes-in-proj-6\n",
      "  return _prepare_from_string(\" \".join(pjargs))\n"
     ]
    },
    {
     "name": "stdout",
     "output_type": "stream",
     "text": [
      "Assigning end nodes to linestring\n",
      "       id                      name  \\\n",
      "index                                 \n",
      "0       0          Chong Kneas Port   \n",
      "1       1      Kampong Chlnang Port   \n",
      "2       2  Kampong Chlnang Junction   \n",
      "3       3         Kratie River Port   \n",
      "4       4           Kratie Junction   \n",
      "\n",
      "                                          geometry  \n",
      "index                                               \n",
      "0      POINT (103.8220192917276 13.26983357773719)  \n",
      "1      POINT (104.6812144473571 12.26824772755564)  \n",
      "2        POINT (104.6920055505009 12.271072307162)  \n",
      "3      POINT (106.0162086075059 12.48460089813051)  \n",
      "4      POINT (106.0122032737445 12.48335342660554)  \n",
      "       end1  end2 special  capacity  id  \\\n",
      "index                                     \n",
      "0         2     0    None  200000.0   0   \n",
      "1        10     6    None   20000.0   1   \n",
      "2         6     5    None   20000.0   2   \n",
      "3         6     4    None   20000.0   3   \n",
      "4         4     3    None       NaN   4   \n",
      "\n",
      "                                                geometry          km  \n",
      "index                                                                 \n",
      "0      LINESTRING (104.6920055505009 12.2710723071620...  156.987116  \n",
      "1      LINESTRING (104.9510420297753 11.5561853379704...  102.755312  \n",
      "2      LINESTRING (105.4691200273138 11.9823990397869...    0.458697  \n",
      "3      LINESTRING (105.4691200273138 11.9823990397869...  114.395339  \n",
      "4      LINESTRING (106.0122032737445 12.4833534266055...    0.468008  \n"
     ]
    },
    {
     "name": "stderr",
     "output_type": "stream",
     "text": [
      "C:\\Users\\celian\\anaconda3\\envs\\DisruptSupplyChain\\lib\\site-packages\\geopandas\\io\\file.py:62: FionaDeprecationWarning: Use fiona.Env() instead.\n",
      "  with fiona.drivers():\n"
     ]
    }
   ],
   "source": [
    "transport_mode = 'waterways'\n",
    "version = \"current_version\"\n",
    "subfolder = os.path.join(input_folder, transport_mode.capitalize(), version)\n",
    "\n",
    "nodes = loadAndFormatGeojson(transport_mode, \"nodes\", subfolder)\n",
    "edges = loadAndFormatGeojson(transport_mode, \"edges\", subfolder)\n",
    "edges = addKm(edges, projected_crs)\n",
    "edges = assignEndpointsAndUpdateFullDf(edges, nodes)\n",
    "\n",
    "print(nodes.head())\n",
    "print(edges.head())\n",
    "\n",
    "nodes.to_file(os.path.join(output_folder, transport_mode+\"_nodes.geojson\"), driver=\"GeoJSON\")\n",
    "edges.to_file(os.path.join(output_folder, transport_mode+\"_edges.geojson\"), driver=\"GeoJSON\")\n",
    "\n",
    "if (edges['end1'] == edges['end2']).any():\n",
    "    print('ATT')"
   ]
  },
  {
   "cell_type": "markdown",
   "metadata": {},
   "source": [
    "# Multimodality"
   ]
  },
  {
   "cell_type": "code",
   "execution_count": 13,
   "metadata": {},
   "outputs": [
    {
     "name": "stdout",
     "output_type": "stream",
     "text": [
      "There are 13 edges\n",
      "{'init': 'epsg:4326'}\n",
      "               multimodes special   capacity  \\\n",
      "index                                          \n",
      "0          roads-railways    None  1000000.0   \n",
      "1       railways-maritime           500000.0   \n",
      "2      roads-maritime-shv          9000000.0   \n",
      "3         roads-waterways    None   100000.0   \n",
      "4         roads-waterways    None        NaN   \n",
      "\n",
      "                                                geometry  id  end1  end2   km  \n",
      "index                                                                          \n",
      "0      LINESTRING (104.9165417337968 11.5726478216031...   0  None  None  0.1  \n",
      "1      LINESTRING (103.5021688860371 10.6428842124675...   1  None  None  0.1  \n",
      "2      LINESTRING (103.5122193000025 10.6424756999999...   2  None  None  0.1  \n",
      "3      LINESTRING (104.9209462 11.5830054, 104.921942...   3  None  None  0.1  \n",
      "4      LINESTRING (105.4653173355818 11.9856826023330...   4  None  None  0.1  \n"
     ]
    }
   ],
   "source": [
    "transport_mode = 'multimodal'\n",
    "version = \"current_version\"\n",
    "subfolder = os.path.join(input_folder, transport_mode.capitalize(), version)\n",
    "\n",
    "edges = loadAndFormatGeojson(transport_mode, \"edges\", subfolder)\n",
    "edges['km'] = 0.1 #no impact\n",
    "\n",
    "print(edges.head())\n",
    "\n",
    "edges.to_file(os.path.join(output_folder, transport_mode+\"_edges.geojson\"), driver=\"GeoJSON\")"
   ]
  },
  {
   "cell_type": "markdown",
   "metadata": {},
   "source": [
    "# Railways"
   ]
  },
  {
   "cell_type": "code",
   "execution_count": 17,
   "metadata": {},
   "outputs": [
    {
     "name": "stdout",
     "output_type": "stream",
     "text": [
      "There are 10 nodes\n",
      "{'init': 'epsg:4326'}\n",
      "There are 10 edges\n",
      "{'init': 'epsg:4326'}\n"
     ]
    },
    {
     "name": "stderr",
     "output_type": "stream",
     "text": [
      "C:\\Users\\celian\\anaconda3\\envs\\DisruptSupplyChain\\lib\\site-packages\\pyproj\\crs\\crs.py:55: FutureWarning: '+init=<authority>:<code>' syntax is deprecated. '<authority>:<code>' is the preferred initialization method. When making the change, be mindful of axis order changes: https://pyproj4.github.io/pyproj/stable/gotchas.html#axis-order-changes-in-proj-6\n",
      "  return _prepare_from_string(\" \".join(pjargs))\n",
      "C:\\Users\\celian\\anaconda3\\envs\\DisruptSupplyChain\\lib\\site-packages\\pyproj\\crs\\crs.py:55: FutureWarning: '+init=<authority>:<code>' syntax is deprecated. '<authority>:<code>' is the preferred initialization method. When making the change, be mindful of axis order changes: https://pyproj4.github.io/pyproj/stable/gotchas.html#axis-order-changes-in-proj-6\n",
      "  return _prepare_from_string(\" \".join(pjargs))\n"
     ]
    },
    {
     "name": "stdout",
     "output_type": "stream",
     "text": [
      "Assigning end nodes to linestring\n",
      "          name                                     geometry  id\n",
      "index                                                          \n",
      "0      station  POINT (104.9165417310334 11.57264782123487)   0\n",
      "1         None  POINT (102.9310145520781 13.58146756607205)   1\n",
      "2         None  POINT (104.8218771869167 11.56651961957141)   2\n",
      "3         None  POINT (104.6969901718489 11.69402940521593)   3\n",
      "4         None  POINT (102.5439458929634 13.66549038485579)   4\n",
      "            From_                         To special  capacity  \\\n",
      "index                                                            \n",
      "0      Phnom Penh              Svay Sisaphon  unused       NaN   \n",
      "1      Phnom Penh             Preah Sihanouk    used  700000.0   \n",
      "2           Snoul                Laos Border  unused       NaN   \n",
      "3       Bat Doeng  Loch Ninh ,Viet Nam Borde  unused       NaN   \n",
      "4       Bat Doeng  Loch Ninh ,Viet Nam Borde  unused       NaN   \n",
      "\n",
      "                                                geometry  id  end1  end2  \\\n",
      "index                                                                      \n",
      "0      LINESTRING (102.5439458929634 13.6654903848557...   0     4     1   \n",
      "1      LINESTRING (103.5021688860371 10.6428842124675...   1     9     2   \n",
      "2      LINESTRING (106.4212240815225 12.0680595577848...   2     7     8   \n",
      "3      LINESTRING (104.6969889783977 11.6940316669897...   3     3     5   \n",
      "4      LINESTRING (105.0682451727648 12.0582239452954...   4     5     7   \n",
      "\n",
      "               km  \n",
      "index              \n",
      "0       44.972336  \n",
      "1      259.756303  \n",
      "2      267.520177  \n",
      "3       64.302303  \n",
      "4      179.791995  \n"
     ]
    },
    {
     "name": "stderr",
     "output_type": "stream",
     "text": [
      "C:\\Users\\celian\\anaconda3\\envs\\DisruptSupplyChain\\lib\\site-packages\\geopandas\\io\\file.py:62: FionaDeprecationWarning: Use fiona.Env() instead.\n",
      "  with fiona.drivers():\n"
     ]
    }
   ],
   "source": [
    "transport_mode = 'railways'\n",
    "version = \"current_version\"\n",
    "subfolder = os.path.join(folder, 'Data', \"Structured\", transport_mode.capitalize(), version)\n",
    "\n",
    "nodes = loadAndFormatGeojson(transport_mode, \"nodes\", subfolder)\n",
    "edges = loadAndFormatGeojson(transport_mode, \"edges\", subfolder)\n",
    "edges = addKm(edges, projected_crs)\n",
    "edges = assignEndpointsAndUpdateFullDf(edges, nodes)\n",
    "\n",
    "print(nodes.head())\n",
    "print(edges.head())\n",
    "\n",
    "nodes.to_file(os.path.join(output_folder, transport_mode+\"_nodes.geojson\"), driver=\"GeoJSON\")\n",
    "edges.to_file(os.path.join(output_folder, transport_mode+\"_edges.geojson\"), driver=\"GeoJSON\")\n",
    "\n",
    "if (edges['end1'] == edges['end2']).any():\n",
    "    print('ATT')"
   ]
  },
  {
   "cell_type": "markdown",
   "metadata": {},
   "source": [
    "# Roads"
   ]
  },
  {
   "cell_type": "code",
   "execution_count": 14,
   "metadata": {},
   "outputs": [
    {
     "name": "stdout",
     "output_type": "stream",
     "text": [
      "There are 2564 nodes\n",
      "epsg:4326\n",
      "There are 3245 edges\n",
      "epsg:4326\n"
     ]
    },
    {
     "name": "stderr",
     "output_type": "stream",
     "text": [
      "C:\\Users\\colon\\Anaconda3\\envs\\geo_env\\lib\\site-packages\\pyproj\\crs\\crs.py:68: FutureWarning: '+init=<authority>:<code>' syntax is deprecated. '<authority>:<code>' is the preferred initialization method. When making the change, be mindful of axis order changes: https://pyproj4.github.io/pyproj/stable/gotchas.html#axis-order-changes-in-proj-6\n",
      "  return _prepare_from_string(\" \".join(pjargs))\n"
     ]
    },
    {
     "name": "stdout",
     "output_type": "stream",
     "text": [
      "Assigning end nodes to linestring\n",
      "       id special district  name                    geometry\n",
      "index                                                       \n",
      "0       0     LAO     None  None  POINT (102.66566 17.97427)\n",
      "1       1     THA     None  None  POINT (100.50715 13.75578)\n",
      "2       2    None     None  None  POINT (106.36375 10.35352)\n",
      "3       3     VNM     None  None  POINT (106.71016 10.79518)\n",
      "4       4    None     0706  None  POINT (104.45389 10.42594)\n",
      "                         name      class  bridge  nb_lanes  surface  id  end1  \\\n",
      "index                                                                           \n",
      "0      Mai Da Road (St: 2004)  secondary     0.0       NaN  unpaved   0   795   \n",
      "1      Mai Da Road (St: 2004)  secondary     0.0       NaN  unpaved   1   793   \n",
      "2      Mai Da Road (St: 2004)  secondary     0.0       NaN  unpaved   2   785   \n",
      "3      Mai Da Road (St: 2004)  secondary     0.0       NaN  unpaved   3   771   \n",
      "4                        None   tertiary     0.0       NaN  unpaved   4  2133   \n",
      "\n",
      "       end2        km special    capacity  \\\n",
      "index                                       \n",
      "0       793  0.211355    None  65000000.0   \n",
      "1       785  1.594282    None  65000000.0   \n",
      "2       771  1.086274    None  65000000.0   \n",
      "3       851  1.827310    None  65000000.0   \n",
      "4      2181  3.941388    None  65000000.0   \n",
      "\n",
      "                                                geometry  \n",
      "index                                                     \n",
      "0      LINESTRING (104.88720 11.55346, 104.88673 11.5...  \n",
      "1      LINESTRING (104.88533 11.55316, 104.88511 11.5...  \n",
      "2      LINESTRING (104.87111 11.55165, 104.87102 11.5...  \n",
      "3      LINESTRING (104.86142 11.55066, 104.86006 11.5...  \n",
      "4      LINESTRING (103.84710 13.38258, 103.84722 13.3...  \n"
     ]
    }
   ],
   "source": [
    "transport_mode = 'roads'\n",
    "version = \"current_version\"\n",
    "subfolder = os.path.join(input_folder, transport_mode.capitalize(), version)\n",
    "\n",
    "nodes = loadAndFormatGeojson(transport_mode, \"nodes\", subfolder)\n",
    "edges = loadAndFormatGeojson(transport_mode, \"edges\", subfolder)\n",
    "edges = addKm(edges, projected_crs)\n",
    "edges = assignEndpointsAndUpdateFullDf(edges, nodes)\n",
    "\n",
    "print(nodes.head())\n",
    "print(edges.head())\n",
    "\n",
    "nodes.to_file(os.path.join(output_folder, transport_mode+\"_nodes.geojson\"), driver=\"GeoJSON\")\n",
    "edges.to_file(os.path.join(output_folder, transport_mode+\"_edges.geojson\"), driver=\"GeoJSON\")\n",
    "\n",
    "if (edges['end1'] == edges['end2']).any():\n",
    "    print('ATT')"
   ]
  },
  {
   "cell_type": "markdown",
   "metadata": {},
   "source": [
    "# Other stuff, may be useful"
   ]
  },
  {
   "cell_type": "markdown",
   "metadata": {},
   "source": [
    "### Transition from shp to geojson"
   ]
  },
  {
   "cell_type": "code",
   "execution_count": 47,
   "metadata": {},
   "outputs": [],
   "source": [
    "for edge_node in [\"node\", \"edge\"]:    \n",
    "    transport_mode = 'roads'\n",
    "    version = \"v8\"\n",
    "    subfolder = os.path.join(folder, 'Data', \"Structured\", transport_mode.capitalize(), version)\n",
    "\n",
    "    filename = \"raw_\"+transport_mode+\"_\"+edge_node+\"s.shp\"\n",
    "    df = gpd.read_file(os.path.join(subfolder, filename))\n",
    "\n",
    "    version = \"current_version\"\n",
    "    subfolder = os.path.join(folder, 'Data', \"Structured\", transport_mode.capitalize(), version)\n",
    "    df.to_file(os.path.join(subfolder, \"raw_\"+transport_mode+\"_\"+edge_node+\"s.geojson\"), driver=\"GeoJSON\")"
   ]
  },
  {
   "cell_type": "markdown",
   "metadata": {
    "tags": []
   },
   "source": [
    "### Change to CRS 4326"
   ]
  },
  {
   "cell_type": "code",
   "execution_count": 76,
   "metadata": {},
   "outputs": [],
   "source": [
    "for edge_node in [\"node\", \"edge\"]:    \n",
    "    transport_mode = 'multimodal'\n",
    "    version = \"current_version\"\n",
    "    subfolder = os.path.join(folder, 'Data', \"Structured\", transport_mode.capitalize(), version)\n",
    "    \n",
    "    filename = \"raw_\"+transport_mode+\"_\"+edge_node+\"s.shp\"\n",
    "    df = gpd.read_file(os.path.join(subfolder, \"raw_\"+transport_mode+\"_\"+edge_node+\"s.geojson\"))\n",
    "    \n",
    "    df = df.to_crs(4326)\n",
    "    \n",
    "    df.to_file(os.path.join(subfolder, \"raw_\"+transport_mode+\"_\"+edge_node+\"s.geojson\"), driver=\"GeoJSON\")"
   ]
  }
 ],
 "metadata": {
  "kernelspec": {
   "display_name": "Python 3 (ipykernel)",
   "language": "python",
   "name": "python3"
  },
  "language_info": {
   "codemirror_mode": {
    "name": "ipython",
    "version": 3
   },
   "file_extension": ".py",
   "mimetype": "text/x-python",
   "name": "python",
   "nbconvert_exporter": "python",
   "pygments_lexer": "ipython3",
   "version": "3.10.4"
  }
 },
 "nbformat": 4,
 "nbformat_minor": 4
}
