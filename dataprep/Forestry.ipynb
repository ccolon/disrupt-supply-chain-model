{
 "cells": [
  {
   "cell_type": "code",
   "execution_count": 1,
   "metadata": {},
   "outputs": [],
   "source": [
    "import os\n",
    "import pandas as pd\n",
    "import geopandas as gpd"
   ]
  },
  {
   "cell_type": "markdown",
   "metadata": {},
   "source": [
    "# Get data from Hidden Dimension Project"
   ]
  },
  {
   "cell_type": "code",
   "execution_count": 2,
   "metadata": {},
   "outputs": [
    {
     "data": {
      "text/html": [
       "<div>\n",
       "<style scoped>\n",
       "    .dataframe tbody tr th:only-of-type {\n",
       "        vertical-align: middle;\n",
       "    }\n",
       "\n",
       "    .dataframe tbody tr th {\n",
       "        vertical-align: top;\n",
       "    }\n",
       "\n",
       "    .dataframe thead th {\n",
       "        text-align: right;\n",
       "    }\n",
       "</style>\n",
       "<table border=\"1\" class=\"dataframe\">\n",
       "  <thead>\n",
       "    <tr style=\"text-align: right;\">\n",
       "      <th></th>\n",
       "      <th>hd_district_id</th>\n",
       "      <th>forest_loss_area</th>\n",
       "      <th>fishing_impact</th>\n",
       "    </tr>\n",
       "  </thead>\n",
       "  <tbody>\n",
       "    <tr>\n",
       "      <th>0</th>\n",
       "      <td>10719</td>\n",
       "      <td>122.591573</td>\n",
       "      <td>0.0</td>\n",
       "    </tr>\n",
       "    <tr>\n",
       "      <th>1</th>\n",
       "      <td>10720</td>\n",
       "      <td>12.361511</td>\n",
       "      <td>0.0</td>\n",
       "    </tr>\n",
       "    <tr>\n",
       "      <th>2</th>\n",
       "      <td>10721</td>\n",
       "      <td>5.325560</td>\n",
       "      <td>0.0</td>\n",
       "    </tr>\n",
       "    <tr>\n",
       "      <th>3</th>\n",
       "      <td>10722</td>\n",
       "      <td>1.185750</td>\n",
       "      <td>0.0</td>\n",
       "    </tr>\n",
       "    <tr>\n",
       "      <th>4</th>\n",
       "      <td>10723</td>\n",
       "      <td>6.044269</td>\n",
       "      <td>0.0</td>\n",
       "    </tr>\n",
       "  </tbody>\n",
       "</table>\n",
       "</div>"
      ],
      "text/plain": [
       "   hd_district_id  forest_loss_area  fishing_impact\n",
       "0           10719        122.591573             0.0\n",
       "1           10720         12.361511             0.0\n",
       "2           10721          5.325560             0.0\n",
       "3           10722          1.185750             0.0\n",
       "4           10723          6.044269             0.0"
      ]
     },
     "execution_count": 2,
     "metadata": {},
     "output_type": "execute_result"
    }
   ],
   "source": [
    "data = pd.read_excel(os.path.join(\"..\", \"..\", \"Raw\", \"HiddenDimensions\", \"HD Cambodia.xls\"))\n",
    "data['fishing_impact'] = data[[col for col in data.columns if col[:10]=='COAST_fish']].sum(axis=1)\n",
    "col = {\n",
    "    'OBJECTID_GADMadm2':\"hd_district_id\",\n",
    "    \"FOR_G2_loss_area\":\"forest_loss_area\",\n",
    "    \"fishing_impact\":\"fishing_impact\"\n",
    "}\n",
    "data = data[list(col.keys())].rename(columns=col)\n",
    "\n",
    "data.head()"
   ]
  },
  {
   "cell_type": "code",
   "execution_count": 3,
   "metadata": {},
   "outputs": [
    {
     "name": "stdout",
     "output_type": "stream",
     "text": [
      "CRS: {'init': 'epsg:4326'}\n"
     ]
    },
    {
     "data": {
      "text/html": [
       "<div>\n",
       "<style scoped>\n",
       "    .dataframe tbody tr th:only-of-type {\n",
       "        vertical-align: middle;\n",
       "    }\n",
       "\n",
       "    .dataframe tbody tr th {\n",
       "        vertical-align: top;\n",
       "    }\n",
       "\n",
       "    .dataframe thead th {\n",
       "        text-align: right;\n",
       "    }\n",
       "</style>\n",
       "<table border=\"1\" class=\"dataframe\">\n",
       "  <thead>\n",
       "    <tr style=\"text-align: right;\">\n",
       "      <th></th>\n",
       "      <th>hd_district_id</th>\n",
       "      <th>hd_district_name</th>\n",
       "      <th>geometry</th>\n",
       "      <th>hd_district_area</th>\n",
       "    </tr>\n",
       "  </thead>\n",
       "  <tbody>\n",
       "    <tr>\n",
       "      <th>0</th>\n",
       "      <td>10719</td>\n",
       "      <td>Malai</td>\n",
       "      <td>POLYGON ((102.818977355957 13.48071956634527, ...</td>\n",
       "      <td>0.047431</td>\n",
       "    </tr>\n",
       "    <tr>\n",
       "      <th>1</th>\n",
       "      <td>10720</td>\n",
       "      <td>Mongkol Borei</td>\n",
       "      <td>POLYGON ((103.0876922607421 13.56660175323481,...</td>\n",
       "      <td>0.059594</td>\n",
       "    </tr>\n",
       "    <tr>\n",
       "      <th>2</th>\n",
       "      <td>10721</td>\n",
       "      <td>Ou Chrov</td>\n",
       "      <td>POLYGON ((102.7456359863282 13.77264022827148,...</td>\n",
       "      <td>0.070253</td>\n",
       "    </tr>\n",
       "    <tr>\n",
       "      <th>3</th>\n",
       "      <td>10722</td>\n",
       "      <td>Phnum Srok</td>\n",
       "      <td>POLYGON ((103.3761367797852 13.94947242736828,...</td>\n",
       "      <td>0.063656</td>\n",
       "    </tr>\n",
       "    <tr>\n",
       "      <th>4</th>\n",
       "      <td>10723</td>\n",
       "      <td>Preah Netr Preah</td>\n",
       "      <td>POLYGON ((103.2661361694337 13.6773824691773, ...</td>\n",
       "      <td>0.081787</td>\n",
       "    </tr>\n",
       "  </tbody>\n",
       "</table>\n",
       "</div>"
      ],
      "text/plain": [
       "   hd_district_id  hd_district_name  \\\n",
       "0           10719             Malai   \n",
       "1           10720     Mongkol Borei   \n",
       "2           10721          Ou Chrov   \n",
       "3           10722        Phnum Srok   \n",
       "4           10723  Preah Netr Preah   \n",
       "\n",
       "                                            geometry  hd_district_area  \n",
       "0  POLYGON ((102.818977355957 13.48071956634527, ...          0.047431  \n",
       "1  POLYGON ((103.0876922607421 13.56660175323481,...          0.059594  \n",
       "2  POLYGON ((102.7456359863282 13.77264022827148,...          0.070253  \n",
       "3  POLYGON ((103.3761367797852 13.94947242736828,...          0.063656  \n",
       "4  POLYGON ((103.2661361694337 13.6773824691773, ...          0.081787  "
      ]
     },
     "execution_count": 3,
     "metadata": {},
     "output_type": "execute_result"
    }
   ],
   "source": [
    "shp = gpd.read_file(os.path.join(\"..\", \"..\", \"Raw\", \"HiddenDimensions\", \"Cambodia_gadm2.shp\"))\n",
    "col = {\n",
    "    'OBJECTID':\"hd_district_id\", \n",
    "    'NAME_2':\"hd_district_name\", \n",
    "    \"geometry\":\"geometry\"\n",
    "}\n",
    "shp = shp[list(col.keys())].rename(columns=col)\n",
    "shp['hd_district_area'] = shp.area\n",
    "print(\"CRS:\", shp.crs)\n",
    "shp.head()"
   ]
  },
  {
   "cell_type": "code",
   "execution_count": 4,
   "metadata": {},
   "outputs": [
    {
     "data": {
      "text/html": [
       "<div>\n",
       "<style scoped>\n",
       "    .dataframe tbody tr th:only-of-type {\n",
       "        vertical-align: middle;\n",
       "    }\n",
       "\n",
       "    .dataframe tbody tr th {\n",
       "        vertical-align: top;\n",
       "    }\n",
       "\n",
       "    .dataframe thead th {\n",
       "        text-align: right;\n",
       "    }\n",
       "</style>\n",
       "<table border=\"1\" class=\"dataframe\">\n",
       "  <thead>\n",
       "    <tr style=\"text-align: right;\">\n",
       "      <th></th>\n",
       "      <th>hd_district_id</th>\n",
       "      <th>hd_district_name</th>\n",
       "      <th>geometry</th>\n",
       "      <th>hd_district_area</th>\n",
       "      <th>forest_loss_area</th>\n",
       "      <th>fishing_impact</th>\n",
       "      <th>forest_loss_per_area_unit</th>\n",
       "      <th>fishing_impact_per_area_unit</th>\n",
       "    </tr>\n",
       "  </thead>\n",
       "  <tbody>\n",
       "    <tr>\n",
       "      <th>0</th>\n",
       "      <td>10719</td>\n",
       "      <td>Malai</td>\n",
       "      <td>POLYGON ((102.818977355957 13.48071956634527, ...</td>\n",
       "      <td>0.047431</td>\n",
       "      <td>122.591573</td>\n",
       "      <td>0.0</td>\n",
       "      <td>2584.622045</td>\n",
       "      <td>0.0</td>\n",
       "    </tr>\n",
       "    <tr>\n",
       "      <th>1</th>\n",
       "      <td>10720</td>\n",
       "      <td>Mongkol Borei</td>\n",
       "      <td>POLYGON ((103.0876922607421 13.56660175323481,...</td>\n",
       "      <td>0.059594</td>\n",
       "      <td>12.361511</td>\n",
       "      <td>0.0</td>\n",
       "      <td>207.429827</td>\n",
       "      <td>0.0</td>\n",
       "    </tr>\n",
       "    <tr>\n",
       "      <th>2</th>\n",
       "      <td>10721</td>\n",
       "      <td>Ou Chrov</td>\n",
       "      <td>POLYGON ((102.7456359863282 13.77264022827148,...</td>\n",
       "      <td>0.070253</td>\n",
       "      <td>5.325560</td>\n",
       "      <td>0.0</td>\n",
       "      <td>75.805529</td>\n",
       "      <td>0.0</td>\n",
       "    </tr>\n",
       "    <tr>\n",
       "      <th>3</th>\n",
       "      <td>10722</td>\n",
       "      <td>Phnum Srok</td>\n",
       "      <td>POLYGON ((103.3761367797852 13.94947242736828,...</td>\n",
       "      <td>0.063656</td>\n",
       "      <td>1.185750</td>\n",
       "      <td>0.0</td>\n",
       "      <td>18.627479</td>\n",
       "      <td>0.0</td>\n",
       "    </tr>\n",
       "    <tr>\n",
       "      <th>4</th>\n",
       "      <td>10723</td>\n",
       "      <td>Preah Netr Preah</td>\n",
       "      <td>POLYGON ((103.2661361694337 13.6773824691773, ...</td>\n",
       "      <td>0.081787</td>\n",
       "      <td>6.044269</td>\n",
       "      <td>0.0</td>\n",
       "      <td>73.902870</td>\n",
       "      <td>0.0</td>\n",
       "    </tr>\n",
       "  </tbody>\n",
       "</table>\n",
       "</div>"
      ],
      "text/plain": [
       "   hd_district_id  hd_district_name  \\\n",
       "0           10719             Malai   \n",
       "1           10720     Mongkol Borei   \n",
       "2           10721          Ou Chrov   \n",
       "3           10722        Phnum Srok   \n",
       "4           10723  Preah Netr Preah   \n",
       "\n",
       "                                            geometry  hd_district_area  \\\n",
       "0  POLYGON ((102.818977355957 13.48071956634527, ...          0.047431   \n",
       "1  POLYGON ((103.0876922607421 13.56660175323481,...          0.059594   \n",
       "2  POLYGON ((102.7456359863282 13.77264022827148,...          0.070253   \n",
       "3  POLYGON ((103.3761367797852 13.94947242736828,...          0.063656   \n",
       "4  POLYGON ((103.2661361694337 13.6773824691773, ...          0.081787   \n",
       "\n",
       "   forest_loss_area  fishing_impact  forest_loss_per_area_unit  \\\n",
       "0        122.591573             0.0                2584.622045   \n",
       "1         12.361511             0.0                 207.429827   \n",
       "2          5.325560             0.0                  75.805529   \n",
       "3          1.185750             0.0                  18.627479   \n",
       "4          6.044269             0.0                  73.902870   \n",
       "\n",
       "   fishing_impact_per_area_unit  \n",
       "0                           0.0  \n",
       "1                           0.0  \n",
       "2                           0.0  \n",
       "3                           0.0  \n",
       "4                           0.0  "
      ]
     },
     "execution_count": 4,
     "metadata": {},
     "output_type": "execute_result"
    }
   ],
   "source": [
    "# Merge shp and data to have the data of interest as shapefile\n",
    "data_shp = shp.merge(data, on='hd_district_id', how='left')\n",
    "data_shp['forest_loss_per_area_unit'] = data_shp['forest_loss_area']/data_shp['hd_district_area']\n",
    "data_shp['fishing_impact_per_area_unit'] = data_shp['fishing_impact']/data_shp['hd_district_area']\n",
    "data_shp.head()"
   ]
  },
  {
   "cell_type": "code",
   "execution_count": 58,
   "metadata": {},
   "outputs": [],
   "source": [
    "#data_shp.to_file(os.path.join(folder, \"data\", \"Structured\", \"Supply\", \"FishingForestry\", \"hd_fishing_forestry.shp\"))"
   ]
  },
  {
   "cell_type": "markdown",
   "metadata": {},
   "source": [
    "# Not same definition of districts: spatial join with districts as in admin data"
   ]
  },
  {
   "cell_type": "code",
   "execution_count": 5,
   "metadata": {},
   "outputs": [
    {
     "name": "stdout",
     "output_type": "stream",
     "text": [
      "CRS: {'init': 'epsg:4326'}\n",
      "Nb district in admin data: 193\n",
      "Nb district in hd data: 178\n"
     ]
    }
   ],
   "source": [
    "admin = gpd.read_file(os.path.join(\"..\", \"..\", \"Structured\", \"Admin\", \"level2_2013.shp\"))\n",
    "print(\"CRS:\", admin.crs)\n",
    "print(\"Nb district in admin data:\", admin.shape[0])\n",
    "print(\"Nb district in hd data:\", data.shape[0])"
   ]
  },
  {
   "cell_type": "code",
   "execution_count": 11,
   "metadata": {},
   "outputs": [
    {
     "name": "stdout",
     "output_type": "stream",
     "text": [
      "CRS: None\n"
     ]
    }
   ],
   "source": [
    "#Slow!\n",
    "# Spatial join\n",
    "merged = gpd.overlay(admin[['district_c', 'district_n', 'geometry']], data_shp, how=\"intersection\")\n",
    "print(\"CRS:\", merged.crs)\n",
    "\n",
    "# Compute impact on each interesct based on area\n",
    "merged['intersect_area'] = merged.area\n",
    "merged['forest_loss_area'] = merged['forest_loss_per_area_unit']*merged['intersect_area']\n",
    "merged['fishing_impact'] = merged['fishing_impact_per_area_unit']*merged['intersect_area']\n",
    "\n",
    "# Groupby district\n",
    "merged = merged[['district_c', 'forest_loss_area', 'fishing_impact', 'intersect_area']]\n",
    "merged = merged.groupby('district_c').sum()"
   ]
  },
  {
   "cell_type": "code",
   "execution_count": 8,
   "metadata": {},
   "outputs": [
    {
     "ename": "NameError",
     "evalue": "name 'merged' is not defined",
     "output_type": "error",
     "traceback": [
      "\u001b[1;31m---------------------------------------------------------------------------\u001b[0m",
      "\u001b[1;31mNameError\u001b[0m                                 Traceback (most recent call last)",
      "\u001b[1;32m<ipython-input-8-bfd479ca46f9>\u001b[0m in \u001b[0;36m<module>\u001b[1;34m\u001b[0m\n\u001b[1;32m----> 1\u001b[1;33m \u001b[0mfishing_forestry\u001b[0m \u001b[1;33m=\u001b[0m \u001b[0madmin\u001b[0m\u001b[1;33m[\u001b[0m\u001b[1;33m[\u001b[0m\u001b[1;34m'district_c'\u001b[0m\u001b[1;33m,\u001b[0m \u001b[1;34m'district_n'\u001b[0m\u001b[1;33m,\u001b[0m \u001b[1;34m'geometry'\u001b[0m\u001b[1;33m]\u001b[0m\u001b[1;33m]\u001b[0m\u001b[1;33m.\u001b[0m\u001b[0mmerge\u001b[0m\u001b[1;33m(\u001b[0m\u001b[0mmerged\u001b[0m\u001b[1;33m,\u001b[0m \u001b[0mon\u001b[0m\u001b[1;33m=\u001b[0m\u001b[1;34m'district_c'\u001b[0m\u001b[1;33m,\u001b[0m \u001b[0mhow\u001b[0m\u001b[1;33m=\u001b[0m\u001b[1;34m'left'\u001b[0m\u001b[1;33m)\u001b[0m\u001b[1;33m\u001b[0m\u001b[1;33m\u001b[0m\u001b[0m\n\u001b[0m\u001b[0;32m      2\u001b[0m \u001b[0mfilename\u001b[0m \u001b[1;33m=\u001b[0m \u001b[0mos\u001b[0m\u001b[1;33m.\u001b[0m\u001b[0mpath\u001b[0m\u001b[1;33m.\u001b[0m\u001b[0mjoin\u001b[0m\u001b[1;33m(\u001b[0m\u001b[1;34m\"..\"\u001b[0m\u001b[1;33m,\u001b[0m \u001b[1;34m\"..\"\u001b[0m\u001b[1;33m,\u001b[0m \u001b[1;34m\"Structured\"\u001b[0m\u001b[1;33m,\u001b[0m \u001b[1;34m\"Supply\"\u001b[0m\u001b[1;33m,\u001b[0m \u001b[1;34m\"FishingForestry\"\u001b[0m\u001b[1;33m,\u001b[0m \u001b[1;34m\"fishing_forestry.shp\"\u001b[0m\u001b[1;33m)\u001b[0m\u001b[1;33m\u001b[0m\u001b[1;33m\u001b[0m\u001b[0m\n\u001b[0;32m      3\u001b[0m \u001b[0mfishing_forestry\u001b[0m\u001b[1;33m.\u001b[0m\u001b[0mto_file\u001b[0m\u001b[1;33m(\u001b[0m\u001b[0mfilename\u001b[0m\u001b[1;33m)\u001b[0m\u001b[1;33m\u001b[0m\u001b[1;33m\u001b[0m\u001b[0m\n\u001b[0;32m      4\u001b[0m \u001b[0mfishing_forestry\u001b[0m\u001b[1;33m.\u001b[0m\u001b[0mhead\u001b[0m\u001b[1;33m(\u001b[0m\u001b[1;33m)\u001b[0m\u001b[1;33m\u001b[0m\u001b[1;33m\u001b[0m\u001b[0m\n",
      "\u001b[1;31mNameError\u001b[0m: name 'merged' is not defined"
     ]
    }
   ],
   "source": [
    "fishing_forestry = admin[['district_c', 'district_n', 'geometry']].merge(merged, on='district_c', how='left')\n",
    "filename = os.path.join(\"..\", \"..\", \"Structured\", \"Supply\", \"FishingForestry\", \"fishing_forestry.shp\")\n",
    "fishing_forestry.to_file(filename)\n",
    "fishing_forestry.head()"
   ]
  },
  {
   "cell_type": "markdown",
   "metadata": {},
   "source": [
    "# Export Forestry per district"
   ]
  },
  {
   "cell_type": "code",
   "execution_count": 11,
   "metadata": {},
   "outputs": [],
   "source": [
    "fishing_forestry.set_index('district_c')[['forest_los']].to_csv(os.path.join('..', \"..\", \"Structured\", \"Supply\", \"FishingForestry\", \"forestry.csv\"))"
   ]
  }
 ],
 "metadata": {
  "kernelspec": {
   "display_name": "Python 3 (ipykernel)",
   "language": "python",
   "name": "python3"
  },
  "language_info": {
   "codemirror_mode": {
    "name": "ipython",
    "version": 3
   },
   "file_extension": ".py",
   "mimetype": "text/x-python",
   "name": "python",
   "nbconvert_exporter": "python",
   "pygments_lexer": "ipython3",
   "version": "3.9.7"
  }
 },
 "nbformat": 4,
 "nbformat_minor": 4
}
